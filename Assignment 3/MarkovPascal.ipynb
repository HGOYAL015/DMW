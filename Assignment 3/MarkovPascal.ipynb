{
  "nbformat": 4,
  "nbformat_minor": 0,
  "metadata": {
    "colab": {
      "name": "MarkovPascal.ipynb",
      "provenance": [],
      "collapsed_sections": [],
      "toc_visible": true
    },
    "kernelspec": {
      "name": "python3",
      "display_name": "Python 3"
    }
  },
  "cells": [
    {
      "cell_type": "markdown",
      "metadata": {
        "id": "gbbM4085MDTL"
      },
      "source": [
        "#Markov Sampling for Pascal dataset"
      ]
    },
    {
      "cell_type": "code",
      "metadata": {
        "id": "-7K_Bc6V8Bm5"
      },
      "source": [
        "# Import all dependencies\n",
        "import pandas as pd\n",
        "import numpy as np\n",
        "from sklearn.svm import SVC\n",
        "from sklearn.model_selection import train_test_split\n",
        "from sklearn import metrics\n",
        "from sklearn.metrics import confusion_matrix\n",
        "from sklearn.model_selection import KFold\n",
        "from sklearn.model_selection import cross_val_score\n",
        "from sklearn.model_selection import GridSearchCV\n",
        "import matplotlib.pyplot as plt\n",
        "import seaborn as sns\n",
        "from sklearn.preprocessing import scale"
      ],
      "execution_count": null,
      "outputs": []
    },
    {
      "cell_type": "code",
      "metadata": {
        "colab": {
          "base_uri": "https://localhost:8080/"
        },
        "id": "rqiu79Cp_inU",
        "outputId": "7a1b4d34-ec85-46a5-9507-52264887dd07"
      },
      "source": [
        "# mount drive for easy import and export of data\n",
        "from google.colab import drive\n",
        "drive.mount('/content/drive')"
      ],
      "execution_count": null,
      "outputs": [
        {
          "output_type": "stream",
          "text": [
            "Drive already mounted at /content/drive; to attempt to forcibly remount, call drive.mount(\"/content/drive\", force_remount=True).\n"
          ],
          "name": "stdout"
        }
      ]
    },
    {
      "cell_type": "code",
      "metadata": {
        "id": "EVeniiLD8HR_"
      },
      "source": [
        "# initialise dataframe with letter dataset\n",
        "pascal = pd.read_csv(\"/content/drive/MyDrive/DMW/Image-pixels.csv\")"
      ],
      "execution_count": null,
      "outputs": []
    },
    {
      "cell_type": "code",
      "metadata": {
        "id": "tDydTch6Angk",
        "colab": {
          "base_uri": "https://localhost:8080/"
        },
        "outputId": "5ea3bc05-a9b9-4860-b311-6f06715577eb"
      },
      "source": [
        "pascal.shape"
      ],
      "execution_count": null,
      "outputs": [
        {
          "output_type": "execute_result",
          "data": {
            "text/plain": [
              "(4382, 22501)"
            ]
          },
          "metadata": {
            "tags": []
          },
          "execution_count": 26
        }
      ]
    },
    {
      "cell_type": "code",
      "metadata": {
        "id": "FI5LwQNOBJHu",
        "colab": {
          "base_uri": "https://localhost:8080/"
        },
        "outputId": "f3fa7eb9-4637-4c79-a80f-82d4345e672c"
      },
      "source": [
        "col=[i for i in range(22500)]\n",
        "col.append('label')\n",
        "pascal.columns=col\n",
        "pascal.columns"
      ],
      "execution_count": null,
      "outputs": [
        {
          "output_type": "execute_result",
          "data": {
            "text/plain": [
              "Index([      0,       1,       2,       3,       4,       5,       6,       7,\n",
              "             8,       9,\n",
              "       ...\n",
              "         22491,   22492,   22493,   22494,   22495,   22496,   22497,   22498,\n",
              "         22499, 'label'],\n",
              "      dtype='object', length=22501)"
            ]
          },
          "metadata": {
            "tags": []
          },
          "execution_count": 27
        }
      ]
    },
    {
      "cell_type": "markdown",
      "metadata": {
        "id": "GhSTKRZeMU98"
      },
      "source": [
        "Step-I"
      ]
    },
    {
      "cell_type": "code",
      "metadata": {
        "id": "wQfr-biD9iFM"
      },
      "source": [
        "# initialise parameters\n",
        "markov= pd.DataFrame(columns = pascal.columns)\n",
        "uniqCls=list(np.sort(pascal['label'].unique()))\n",
        "classCNT=len(uniqCls)\n",
        "limit=250\n",
        "m=classCNT*limit\n",
        "mcls={i:0 for i in uniqCls}"
      ],
      "execution_count": null,
      "outputs": []
    },
    {
      "cell_type": "code",
      "metadata": {
        "id": "OIMlC-boB3s8"
      },
      "source": [
        "# Chose parameters for markov sampling\n",
        "k=5\n",
        "q=1.2\n",
        "acc=0"
      ],
      "execution_count": null,
      "outputs": []
    },
    {
      "cell_type": "code",
      "metadata": {
        "id": "qn8CYh4HueNL"
      },
      "source": [
        "\n",
        "X = pascal.drop(\"label\", axis = 1)\n",
        "y = pascal['label']\n",
        "\n",
        "# train test split\n",
        "X_train, X_test, y_train, y_test = train_test_split(X, y, test_size = 0.7, random_state = 101)\n",
        "model_linear = SVC(kernel='linear')\n",
        "model_linear.fit(X_train, y_train)\n",
        "\n",
        "# predict\n",
        "y_pred = model_linear.predict(X_test)"
      ],
      "execution_count": null,
      "outputs": []
    },
    {
      "cell_type": "code",
      "metadata": {
        "id": "EIkUgM_7uA3b",
        "colab": {
          "base_uri": "https://localhost:8080/"
        },
        "outputId": "f9df6f3c-9d7b-44d4-c778-4b1766c0303b"
      },
      "source": [
        "y_pred"
      ],
      "execution_count": null,
      "outputs": [
        {
          "output_type": "execute_result",
          "data": {
            "text/plain": [
              "array([4., 4., 2., ..., 6., 2., 5.])"
            ]
          },
          "metadata": {
            "tags": []
          },
          "execution_count": 31
        }
      ]
    },
    {
      "cell_type": "markdown",
      "metadata": {
        "id": "GF_ncZ44MgWD"
      },
      "source": [
        "Step-II"
      ]
    },
    {
      "cell_type": "code",
      "metadata": {
        "id": "-eeuIKzj_0qi"
      },
      "source": [
        "# Chosing a random sample as first of markov chain\n",
        "i=np.random.randint(pascal.shape[0])\n",
        "z0=pascal.iloc[i]\n",
        "y0=model_linear.predict(np.array([z0.drop('label')]))[0]\n",
        "if m%classCNT==0:\n",
        "    mcls[z0['label']]+=1"
      ],
      "execution_count": null,
      "outputs": []
    },
    {
      "cell_type": "code",
      "metadata": {
        "id": "xLPcDb9Hv6bZ"
      },
      "source": [
        "predProb=[]"
      ],
      "execution_count": null,
      "outputs": []
    },
    {
      "cell_type": "code",
      "metadata": {
        "id": "6XdDB1FsAjEJ"
      },
      "source": [
        "# Utility Function for loop condition\n",
        "def exist(dic,limit):\n",
        "    for i,val in dic.items():\n",
        "        if val<limit:\n",
        "            return True\n",
        "    return False            "
      ],
      "execution_count": null,
      "outputs": []
    },
    {
      "cell_type": "code",
      "metadata": {
        "id": "hdK-VA5jvL40"
      },
      "source": [
        "# Utility loss Function\n",
        "def lossF(actual,pred):\n",
        "    if actual==pred:\n",
        "        return 1.0\n",
        "    return np.exp(-2)"
      ],
      "execution_count": null,
      "outputs": []
    },
    {
      "cell_type": "code",
      "metadata": {
        "id": "98rcpAWLFfnM"
      },
      "source": [
        "lst=[]"
      ],
      "execution_count": null,
      "outputs": []
    },
    {
      "cell_type": "markdown",
      "metadata": {
        "id": "IbPrJ8o2MrSZ"
      },
      "source": [
        "Step-III TO Step-VI"
      ]
    },
    {
      "cell_type": "code",
      "metadata": {
        "id": "QKLkHKVWAAKR"
      },
      "source": [
        "# Run loop till limit is reached for each class\n",
        "while exist(mcls,limit):\n",
        "    \n",
        "    # choosing a random sample\n",
        "    i=np.random.randint(pascal.shape[0])\n",
        "    while i in lst:\n",
        "        i=np.random.randint(pascal.shape[0])\n",
        "    lst.append(i)\n",
        "    z1=pascal.iloc[i]\n",
        "    y1=model_linear.predict(np.array([z1.drop('label')]))[0]\n",
        "    n=lossF(z1['label'],y1)\n",
        "    d=lossF(z0['label'],y0)\n",
        "    p=n/d\n",
        "\n",
        "    # Deciding of acceptance of chosen sample and its probability in markov chain\n",
        "    if acc==k:\n",
        "        acc=0\n",
        "        p2=q*p\n",
        "        p2=min(p2,1)\n",
        "        predProb.append([z1['label'],y1,p2])\n",
        "        markov=markov.append(z1)\n",
        "        z0=z1\n",
        "        mcls[z1['label']]+=1\n",
        "        acc+=1\n",
        "    elif p==1 and z0['label']==z1['label']:\n",
        "        n=np.exp(-y1*z1['label'])\n",
        "        d=np.exp(-y0*z0['label'])\n",
        "\n",
        "        p1=n/d\n",
        "        p1=min(p1,1)\n",
        "        predProb.append([z1['label'],y1,p1])\n",
        "        markov=markov.append(z1)\n",
        "        z0=z1\n",
        "        mcls[z1['label']]+=1\n",
        "        acc+=1\n",
        "    elif p<1:\n",
        "        predProb.append([z1['label'],y1,p])\n",
        "        markov=markov.append(z1)\n",
        "        z0=z1\n",
        "        mcls[z1['label']]+=1\n",
        "        acc+=1\n",
        "    elif p==1 and z0['label']!=z1['label']:\n",
        "        predProb.append([z1['label'],y1,p])\n",
        "        markov=markov.append(z1)\n",
        "        z0=z1\n",
        "        mcls[z1['label']]+=1\n",
        "        acc+=1\n",
        "markov"
      ],
      "execution_count": null,
      "outputs": []
    },
    {
      "cell_type": "code",
      "metadata": {
        "id": "jDG8bXV152jW"
      },
      "source": [
        "markov"
      ],
      "execution_count": null,
      "outputs": []
    },
    {
      "cell_type": "code",
      "metadata": {
        "id": "5QLx4N462r2h"
      },
      "source": [
        "predProb"
      ],
      "execution_count": null,
      "outputs": []
    },
    {
      "cell_type": "markdown",
      "metadata": {
        "id": "27sYcmL2M8Hs"
      },
      "source": [
        "Save data from generated markov chain"
      ]
    },
    {
      "cell_type": "code",
      "metadata": {
        "id": "Pwyxtx7k3pSD"
      },
      "source": [
        "markov.to_csv(\"/content/drive/MyDrive/DMW/markovSamplesPascal1.csv\")"
      ],
      "execution_count": 53,
      "outputs": []
    },
    {
      "cell_type": "code",
      "metadata": {
        "id": "Wjk8DG-B3_D9"
      },
      "source": [
        "prob=[]\n",
        "for i in predProb:\n",
        "    prob.append(i[2])"
      ],
      "execution_count": 54,
      "outputs": []
    },
    {
      "cell_type": "code",
      "metadata": {
        "id": "ixRwsvf834Y7"
      },
      "source": [
        "markov['probability']=prob"
      ],
      "execution_count": 55,
      "outputs": []
    },
    {
      "cell_type": "code",
      "metadata": {
        "id": "9n-YOd_U4Hgq"
      },
      "source": [
        "markov.to_csv(\"/content/drive/MyDrive/DMW/markovSamplesPascalProbability1.csv\")"
      ],
      "execution_count": 56,
      "outputs": []
    },
    {
      "cell_type": "code",
      "metadata": {
        "id": "cfhRBBQ95FU_"
      },
      "source": [
        "# for i in lst:\n",
        "#     pascal=pascal.drop([i])\n",
        "pascal.to_csv('/content/drive/MyDrive/DMW/remainingPascal1.csv')"
      ],
      "execution_count": 57,
      "outputs": []
    },
    {
      "cell_type": "markdown",
      "metadata": {
        "id": "uh-fl8YsWIqm"
      },
      "source": [
        "# SVM"
      ]
    },
    {
      "cell_type": "code",
      "metadata": {
        "id": "VIRJ-WF6FKpO"
      },
      "source": [
        "train = pd.read_csv(\"/content/drive/MyDrive/DMW/markovSamplesPascal1.csv\")\n",
        "test = pd.read_csv(\"/content/drive/MyDrive/DMW/remainingPascal1.csv\")"
      ],
      "execution_count": 58,
      "outputs": []
    },
    {
      "cell_type": "code",
      "metadata": {
        "id": "XR7qKqFN0wB9",
        "colab": {
          "base_uri": "https://localhost:8080/"
        },
        "outputId": "cd95f3ad-504d-4e96-b977-64977d3a63aa"
      },
      "source": [
        "print(train.shape,test.shape)"
      ],
      "execution_count": 59,
      "outputs": [
        {
          "output_type": "stream",
          "text": [
            "(2454, 22502) (4290, 22502)\n"
          ],
          "name": "stdout"
        }
      ]
    },
    {
      "cell_type": "code",
      "metadata": {
        "id": "4wEpb17SGzPL"
      },
      "source": [
        "train = train.drop(train.columns[[0]], axis=1)\n",
        "test = test.drop(test.columns[[0]], axis=1)"
      ],
      "execution_count": 60,
      "outputs": []
    },
    {
      "cell_type": "code",
      "metadata": {
        "id": "JBgk-_RzGjan"
      },
      "source": [
        "X_train = train.drop(\"label\", axis = 1)\n",
        "y_train = train[\"label\"]\n",
        "\n",
        "X_test = test.drop(\"label\", axis = 1)\n",
        "y_test = test[\"label\"]"
      ],
      "execution_count": 61,
      "outputs": []
    },
    {
      "cell_type": "markdown",
      "metadata": {
        "id": "SGnXKzuYeeF5"
      },
      "source": [
        "Linear kernel"
      ]
    },
    {
      "cell_type": "code",
      "metadata": {
        "id": "bitcI1CvHG5T",
        "colab": {
          "base_uri": "https://localhost:8080/"
        },
        "outputId": "bcd05409-e538-4c79-9908-75ac24baabf8"
      },
      "source": [
        "model_linear = SVC(kernel='linear')\n",
        "model_linear.fit(X_train, y_train)\n",
        "\n",
        "# predict\n",
        "y_pred = model_linear.predict(X_test)\n",
        "print(\"accuracy:\", metrics.accuracy_score(y_true=y_test, y_pred=y_pred), \"\\n\")"
      ],
      "execution_count": 62,
      "outputs": [
        {
          "output_type": "stream",
          "text": [
            "accuracy: 0.6118881118881119 \n",
            "\n"
          ],
          "name": "stdout"
        }
      ]
    },
    {
      "cell_type": "markdown",
      "metadata": {
        "id": "Fu2A7dqOehsq"
      },
      "source": [
        "RBF kernel"
      ]
    },
    {
      "cell_type": "code",
      "metadata": {
        "id": "GDNgJ7QRev6K",
        "colab": {
          "base_uri": "https://localhost:8080/"
        },
        "outputId": "4b7d1df7-22a1-4e97-97be-8cb33c7d3956"
      },
      "source": [
        "model_linear = SVC(kernel='rbf')\n",
        "model_linear.fit(X_train, y_train)\n",
        "\n",
        "# predict\n",
        "y_pred = model_linear.predict(X_test)\n",
        "print(\"accuracy:\", metrics.accuracy_score(y_true=y_test, y_pred=y_pred), \"\\n\")"
      ],
      "execution_count": 63,
      "outputs": [
        {
          "output_type": "stream",
          "text": [
            "accuracy: 0.4869463869463869 \n",
            "\n"
          ],
          "name": "stdout"
        }
      ]
    },
    {
      "cell_type": "markdown",
      "metadata": {
        "id": "HNO7cftCfCiv"
      },
      "source": [
        "Chi-squared kernel"
      ]
    },
    {
      "cell_type": "code",
      "metadata": {
        "id": "Tr6eto90fGkU",
        "colab": {
          "base_uri": "https://localhost:8080/"
        },
        "outputId": "34f55942-71b7-4a49-caf3-3035d0f42bd5"
      },
      "source": [
        "from sklearn.metrics.pairwise import chi2_kernel\n",
        "\n",
        "model_linear = SVC(kernel=chi2_kernel)\n",
        "model_linear.fit(X_train, y_train)\n",
        "\n",
        "y_pred = model_linear.predict(X_test)\n",
        "print(\"accuracy:\", metrics.accuracy_score(y_true=y_test, y_pred=y_pred), \"\\n\")"
      ],
      "execution_count": 64,
      "outputs": [
        {
          "output_type": "stream",
          "text": [
            "accuracy: 0.610955710955711 \n",
            "\n"
          ],
          "name": "stdout"
        }
      ]
    },
    {
      "cell_type": "markdown",
      "metadata": {
        "id": "xaehRg-le8mh"
      },
      "source": [
        "Hellinger kernel"
      ]
    },
    {
      "cell_type": "code",
      "metadata": {
        "id": "dmhgPdzGfBrk",
        "colab": {
          "base_uri": "https://localhost:8080/"
        },
        "outputId": "f0af8fb6-02e7-4708-f965-25ff92005d56"
      },
      "source": [
        "def hellinger(X1, X2):\n",
        "\n",
        "  return np.sqrt(np.dot(X1,X2.T))\n",
        "   \n",
        "\n",
        "model_linear = SVC(kernel=hellinger)\n",
        "model_linear.fit(X_train, y_train)\n",
        "\n",
        "# predict\n",
        "y_pred = model_linear.predict(X_test)\n",
        "print(\"accuracy:\", metrics.accuracy_score(y_true=y_test, y_pred=y_pred), \"\\n\")"
      ],
      "execution_count": 65,
      "outputs": [
        {
          "output_type": "stream",
          "text": [
            "accuracy: 0.3592074592074592 \n",
            "\n"
          ],
          "name": "stdout"
        }
      ]
    },
    {
      "cell_type": "markdown",
      "metadata": {
        "id": "LokLXsh2e4Vz"
      },
      "source": [
        "Intersection kernel"
      ]
    },
    {
      "cell_type": "code",
      "metadata": {
        "id": "YYgchpGTe7bV"
      },
      "source": [
        "from sklearn.metrics.pairwise import euclidean_distances\n",
        "\n",
        "def intersection(X1,X2):\n",
        "\n",
        "  # X1= n1 x m\n",
        "  # X2= n2 x m\n",
        "  # result= n1xn2\n",
        "\n",
        "  result = np.zeros((X1.shape[0],X2.shape[0]))\n",
        "  X2=X2.T\n",
        "\n",
        "  for i in range(len(X1)):\n",
        "    # iterate through columns of Y\n",
        "    for j in range(len(X2[0])):\n",
        "      # iterate through rows of Y\n",
        "      val=float('+inf')\n",
        "      for k in range(len(X2)):\n",
        "        val = min(val,X1[i][k] * X2[k][j])\n",
        "\n",
        "      result[i][j]=val\n",
        "\n",
        "  return result\n",
        " \n",
        "\n",
        "model_linear = SVC(kernel=intersection)\n",
        "model_linear.fit(X_train, y_train)\n",
        "\n",
        "# predict\n",
        "y_pred = model_linear.predict(X_test)\n",
        "print(\"accuracy:\", metrics.accuracy_score(y_true=y_test, y_pred=y_pred), \"\\n\")\n",
        "\n",
        "# Taking too much time."
      ],
      "execution_count": null,
      "outputs": []
    }
  ]
}