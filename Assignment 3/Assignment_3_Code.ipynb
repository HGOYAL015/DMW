{
  "nbformat": 4,
  "nbformat_minor": 0,
  "metadata": {
    "colab": {
      "name": "Assignment_3_Code.ipynb",
      "provenance": [],
      "collapsed_sections": [],
      "toc_visible": true
    },
    "kernelspec": {
      "display_name": "Python 3",
      "language": "python",
      "name": "python3"
    },
    "language_info": {
      "codemirror_mode": {
        "name": "ipython",
        "version": 3
      },
      "file_extension": ".py",
      "mimetype": "text/x-python",
      "name": "python",
      "nbconvert_exporter": "python",
      "pygments_lexer": "ipython3",
      "version": "3.6.4"
    }
  },
  "cells": [
    {
      "cell_type": "markdown",
      "metadata": {
        "id": "NpVFOYBuX-JE"
      },
      "source": [
        "# **Assignment-3 : Generalization ability of SVM classification based on Markov Sampling**\n",
        "\n",
        "Group Members : \n",
        "\n",
        "IIT2018114 Harsh Goyal \\\n",
        "IIT2018144 Aaditya Gadhave \\\n",
        "IIT2018149 Sourabh Gupta \\\n",
        "IIT2018158 Meet Singh Gambhir \\\n",
        "IIT2018159 Tushar Atrey\n"
      ]
    },
    {
      "cell_type": "markdown",
      "metadata": {
        "id": "meKdWKSfZA2T"
      },
      "source": [
        "**1. Importing Libraries**"
      ]
    },
    {
      "cell_type": "code",
      "metadata": {
        "id": "4JbV3qquZI2y"
      },
      "source": [
        "import pandas as pd\n",
        "import numpy as np\n",
        "from sklearn.svm import SVC\n",
        "from sklearn.model_selection import train_test_split\n",
        "from sklearn import metrics\n",
        "from sklearn.metrics import confusion_matrix\n",
        "from sklearn.model_selection import KFold\n",
        "from sklearn.model_selection import cross_val_score\n",
        "from sklearn.model_selection import GridSearchCV\n",
        "import matplotlib.pyplot as plt\n",
        "import seaborn as sns\n",
        "from sklearn.preprocessing import scale\n",
        "import numpy.linalg as npla\n",
        "import random\n",
        "\n",
        "from functools import partial\n",
        "import pylab"
      ],
      "execution_count": null,
      "outputs": []
    },
    {
      "cell_type": "code",
      "metadata": {
        "id": "gw1SdidJ4H4q"
      },
      "source": [
        "data = pd.read_csv(\"letter-recognition.csv\")\n",
        "data.columns = ['letter', \n",
        "                'xbox'  , \n",
        "                'ybox'  , \n",
        "                'width' , \n",
        "                'height', \n",
        "                'onpix' , \n",
        "                'xbar'  ,\n",
        "                'ybar'  , \n",
        "                'x2bar' , \n",
        "                'y2bar' , \n",
        "                'xybar' , \n",
        "                'x2ybar', \n",
        "                'xy2bar', \n",
        "                'xedge' ,\n",
        "                'xedgey', \n",
        "                'yedge' , \n",
        "                'yedgex']\n",
        "order = list(np.sort(data['letter'].unique()))\n",
        "random_state = 100"
      ],
      "execution_count": null,
      "outputs": []
    },
    {
      "cell_type": "code",
      "metadata": {
        "colab": {
          "base_uri": "https://localhost:8080/",
          "height": 985
        },
        "id": "jrnejLnX4H41",
        "outputId": "ae044946-2085-410b-e6a0-b15e71e5e0ec"
      },
      "source": [
        "plt.figure(figsize=(5, 5))\n",
        "sns.barplot(x='letter',\n",
        "            y='xbox', \n",
        "            data=data, \n",
        "            order=order)\n",
        "\n",
        "plt.figure(figsize=(5, 5))\n",
        "sns.barplot(x='letter', \n",
        "            y='xbar', \n",
        "            data=data, \n",
        "            order=order)\n",
        "\n",
        "plt.figure(figsize=(5, 5))\n",
        "sns.barplot(x='letter', \n",
        "            y='x2bar', \n",
        "            data=data, \n",
        "            order=order)"
      ],
      "execution_count": null,
      "outputs": [
        {
          "output_type": "execute_result",
          "data": {
            "text/plain": [
              "<matplotlib.axes._subplots.AxesSubplot at 0x7f1e9486f910>"
            ]
          },
          "metadata": {
            "tags": []
          },
          "execution_count": 105
        },
        {
          "output_type": "display_data",
          "data": {
            "image/png": "[encoded data removed]",
            "text/plain": [
              "<Figure size 360x360 with 1 Axes>"
            ]
          },
          "metadata": {
            "tags": [],
            "needs_background": "light"
          }
        },
        {
          "output_type": "display_data",
          "data": {
            "image/png": "[encoded data removed]",
            "text/plain": [
              "<Figure size 360x360 with 1 Axes>"
            ]
          },
          "metadata": {
            "tags": [],
            "needs_background": "light"
          }
        },
        {
          "output_type": "display_data",
          "data": {
            "image/png": "[encoded data removed]",
            "text/plain": [
              "<Figure size 360x360 with 1 Axes>"
            ]
          },
          "metadata": {
            "tags": [],
            "needs_background": "light"
          }
        }
      ]
    },
    {
      "cell_type": "code",
      "metadata": {
        "colab": {
          "base_uri": "https://localhost:8080/",
          "height": 238
        },
        "id": "61nf6tgl4H41",
        "outputId": "3d1d7730-bbe6-4a47-c45e-0fa6469af413"
      },
      "source": [
        "attribute_mean = data.groupby('letter').mean()\n",
        "attribute_mean.head()"
      ],
      "execution_count": null,
      "outputs": [
        {
          "output_type": "execute_result",
          "data": {
            "text/html": [
              "<div>\n",
              "<style scoped>\n",
              "    .dataframe tbody tr th:only-of-type {\n",
              "        vertical-align: middle;\n",
              "    }\n",
              "\n",
              "    .dataframe tbody tr th {\n",
              "        vertical-align: top;\n",
              "    }\n",
              "\n",
              "    .dataframe thead th {\n",
              "        text-align: right;\n",
              "    }\n",
              "</style>\n",
              "<table border=\"1\" class=\"dataframe\">\n",
              "  <thead>\n",
              "    <tr style=\"text-align: right;\">\n",
              "      <th></th>\n",
              "      <th>xbox</th>\n",
              "      <th>ybox</th>\n",
              "      <th>width</th>\n",
              "      <th>height</th>\n",
              "      <th>onpix</th>\n",
              "      <th>xbar</th>\n",
              "      <th>ybar</th>\n",
              "      <th>x2bar</th>\n",
              "      <th>y2bar</th>\n",
              "      <th>xybar</th>\n",
              "      <th>x2ybar</th>\n",
              "      <th>xy2bar</th>\n",
              "      <th>xedge</th>\n",
              "      <th>xedgey</th>\n",
              "      <th>yedge</th>\n",
              "      <th>yedgex</th>\n",
              "    </tr>\n",
              "    <tr>\n",
              "      <th>letter</th>\n",
              "      <th></th>\n",
              "      <th></th>\n",
              "      <th></th>\n",
              "      <th></th>\n",
              "      <th></th>\n",
              "      <th></th>\n",
              "      <th></th>\n",
              "      <th></th>\n",
              "      <th></th>\n",
              "      <th></th>\n",
              "      <th></th>\n",
              "      <th></th>\n",
              "      <th></th>\n",
              "      <th></th>\n",
              "      <th></th>\n",
              "      <th></th>\n",
              "    </tr>\n",
              "  </thead>\n",
              "  <tbody>\n",
              "    <tr>\n",
              "      <th>A</th>\n",
              "      <td>3.337136</td>\n",
              "      <td>6.975919</td>\n",
              "      <td>5.128010</td>\n",
              "      <td>5.178707</td>\n",
              "      <td>2.991128</td>\n",
              "      <td>8.851711</td>\n",
              "      <td>3.631179</td>\n",
              "      <td>2.755387</td>\n",
              "      <td>2.043093</td>\n",
              "      <td>7.802281</td>\n",
              "      <td>2.338403</td>\n",
              "      <td>8.465146</td>\n",
              "      <td>2.771863</td>\n",
              "      <td>6.321926</td>\n",
              "      <td>2.875792</td>\n",
              "      <td>7.468948</td>\n",
              "    </tr>\n",
              "    <tr>\n",
              "      <th>B</th>\n",
              "      <td>3.985640</td>\n",
              "      <td>6.962141</td>\n",
              "      <td>5.088773</td>\n",
              "      <td>5.169713</td>\n",
              "      <td>4.596606</td>\n",
              "      <td>7.671018</td>\n",
              "      <td>7.062663</td>\n",
              "      <td>5.366841</td>\n",
              "      <td>5.571802</td>\n",
              "      <td>7.954308</td>\n",
              "      <td>5.506527</td>\n",
              "      <td>6.652742</td>\n",
              "      <td>3.117493</td>\n",
              "      <td>7.919060</td>\n",
              "      <td>6.612272</td>\n",
              "      <td>9.100522</td>\n",
              "    </tr>\n",
              "    <tr>\n",
              "      <th>C</th>\n",
              "      <td>4.031250</td>\n",
              "      <td>7.063859</td>\n",
              "      <td>4.701087</td>\n",
              "      <td>5.296196</td>\n",
              "      <td>2.775815</td>\n",
              "      <td>5.437500</td>\n",
              "      <td>7.627717</td>\n",
              "      <td>5.927989</td>\n",
              "      <td>7.177989</td>\n",
              "      <td>8.773098</td>\n",
              "      <td>7.494565</td>\n",
              "      <td>11.947011</td>\n",
              "      <td>1.991848</td>\n",
              "      <td>8.876359</td>\n",
              "      <td>4.080163</td>\n",
              "      <td>8.555707</td>\n",
              "    </tr>\n",
              "    <tr>\n",
              "      <th>D</th>\n",
              "      <td>4.023602</td>\n",
              "      <td>7.244720</td>\n",
              "      <td>5.170186</td>\n",
              "      <td>5.288199</td>\n",
              "      <td>4.026087</td>\n",
              "      <td>7.539130</td>\n",
              "      <td>6.806211</td>\n",
              "      <td>5.921739</td>\n",
              "      <td>6.508075</td>\n",
              "      <td>8.166460</td>\n",
              "      <td>5.111801</td>\n",
              "      <td>5.750311</td>\n",
              "      <td>3.365217</td>\n",
              "      <td>7.813665</td>\n",
              "      <td>3.971429</td>\n",
              "      <td>7.628571</td>\n",
              "    </tr>\n",
              "    <tr>\n",
              "      <th>E</th>\n",
              "      <td>3.727865</td>\n",
              "      <td>6.944010</td>\n",
              "      <td>4.756510</td>\n",
              "      <td>5.201823</td>\n",
              "      <td>3.679688</td>\n",
              "      <td>5.966146</td>\n",
              "      <td>7.352865</td>\n",
              "      <td>4.223958</td>\n",
              "      <td>7.585938</td>\n",
              "      <td>8.507812</td>\n",
              "      <td>6.242188</td>\n",
              "      <td>10.341146</td>\n",
              "      <td>2.127604</td>\n",
              "      <td>8.298177</td>\n",
              "      <td>6.022135</td>\n",
              "      <td>8.506510</td>\n",
              "    </tr>\n",
              "  </tbody>\n",
              "</table>\n",
              "</div>"
            ],
            "text/plain": [
              "            xbox      ybox     width  ...    xedgey     yedge    yedgex\n",
              "letter                                ...                              \n",
              "A       3.337136  6.975919  5.128010  ...  6.321926  2.875792  7.468948\n",
              "B       3.985640  6.962141  5.088773  ...  7.919060  6.612272  9.100522\n",
              "C       4.031250  7.063859  4.701087  ...  8.876359  4.080163  8.555707\n",
              "D       4.023602  7.244720  5.170186  ...  7.813665  3.971429  7.628571\n",
              "E       3.727865  6.944010  4.756510  ...  8.298177  6.022135  8.506510\n",
              "\n",
              "[5 rows x 16 columns]"
            ]
          },
          "metadata": {
            "tags": []
          },
          "execution_count": 106
        }
      ]
    },
    {
      "cell_type": "code",
      "metadata": {
        "colab": {
          "base_uri": "https://localhost:8080/"
        },
        "id": "__mRCQrz4H43",
        "outputId": "626b458c-13b6-4d43-8cb0-5954d2ed4454"
      },
      "source": [
        "round(data.drop('letter', axis=1).mean(), 2)"
      ],
      "execution_count": null,
      "outputs": [
        {
          "output_type": "execute_result",
          "data": {
            "text/plain": [
              "xbox      4.02\n",
              "ybox      7.04\n",
              "width     5.12\n",
              "height    5.37\n",
              "onpix     3.51\n",
              "xbar      6.90\n",
              "ybar      7.50\n",
              "x2bar     4.63\n",
              "y2bar     5.18\n",
              "xybar     8.28\n",
              "x2ybar    6.45\n",
              "xy2bar    7.93\n",
              "xedge     3.05\n",
              "xedgey    8.34\n",
              "yedge     3.69\n",
              "yedgex    7.80\n",
              "dtype: float64"
            ]
          },
          "metadata": {
            "tags": []
          },
          "execution_count": 107
        }
      ]
    },
    {
      "cell_type": "code",
      "metadata": {
        "id": "Ch5yyqph4H45"
      },
      "source": [
        "X = data.drop(\"letter\", axis = 1)\n",
        "Y = data['letter']\n",
        "\n",
        "X_scaled = scale(X)\n",
        "X_train, X_test, y_train, y_test = train_test_split(X_scaled, Y, test_size = 0.3, random_state = random_state)"
      ],
      "execution_count": null,
      "outputs": []
    },
    {
      "cell_type": "code",
      "metadata": {
        "id": "9ScNMxw5_GvP"
      },
      "source": [
        "\n",
        "def gaussian(x, sigma, sampled=None):\n",
        "    if sampled is None: \n",
        "        L = npla.cholesky(sigma)\n",
        "        z = np.random.randn(x.shape[0], 1)\n",
        "        return np.dot(L, z+x)\n",
        "    else:\n",
        "        a = x - sampled\n",
        "        b = np.dot(npla.inv(sigma), a)\n",
        "\n",
        "        return np.exp(-0.5*np.dot( a.T, b))[0,0]\n",
        "\n",
        "\n",
        "def gaussian_1d(x, sigma, sampled=None):\n",
        "    if sampled is None:\n",
        "        return sigma*np.random.randn(1)[0]\n",
        "    else:\n",
        "        return np.exp(-0.5( (x-sampled)**2)/sigma**2)\n",
        "\n",
        "\n",
        "def chi_sq(x, sampled = None, n = 0):\n",
        "    if sampled is None:\n",
        "        return np.random.chisquare(n)\n",
        "    else:\n",
        "        return np.power(sampled,0.5*n - 1)*np.exp(-0.5*sampled)\n",
        "\n",
        "\n",
        "def inv_chi_sq(theta, n, a):\n",
        "    return np.power(theta, -0.5*n)*np.exp(-a/(2*theta))\n",
        "\n",
        "\n",
        "def metropolis(f, proposal, old):\n",
        "    new = proposal(old)\n",
        "    alpha = np.min([f(new)/f(old), 1])\n",
        "    u = np.random.uniform()\n",
        "    cnt = 0\n",
        "    if (u < alpha):\n",
        "        old = new\n",
        "        cnt = 1\n",
        "    return old, cnt\n",
        "\n",
        "\n",
        "def met_hast(f, proposal, old):\n",
        "    new = proposal(old)\n",
        "    a = proposal(new, sampled = old)\n",
        "    b = proposal(old, sampled = new)\n",
        "    alpha = np.min([(f(new)*a)/(f(old) * b), 1])\n",
        "    u = np.random.uniform()\n",
        "    cnt = 0\n",
        "    if (u < alpha):\n",
        "        old = new\n",
        "        cnt = 1\n",
        "    return old, cnt\n",
        "\n",
        "def run_chain(chainer, f, proposal, start, n, take=1):\n",
        "    count = 0\n",
        "    samples = [start]\n",
        "    for i in range(n):\n",
        "        start, c = chainer(f, proposal, start)\n",
        "        count = count + c\n",
        "        if i%take is 0:\n",
        "            samples.append(start)\n",
        "    return samples, count\n",
        "\n",
        "def uni_prop(x, frm, to, sampled=None):\n",
        "    return np.random.uniform(frm, to)\n",
        "\n"
      ],
      "execution_count": null,
      "outputs": []
    },
    {
      "cell_type": "markdown",
      "metadata": {
        "id": "fYIPwL0J4H45"
      },
      "source": [
        "## Model Building\n",
        "Let's fist build two basic models - linear and non-linear with default hyperparameters, and compare the accuracies."
      ]
    },
    {
      "cell_type": "code",
      "metadata": {
        "colab": {
          "base_uri": "https://localhost:8080/"
        },
        "id": "4S8iYAu_9QeL",
        "outputId": "98e57627-232b-4fd5-e4d9-ae2216ea547e"
      },
      "source": [
        "print((y_train.to_numpy()))"
      ],
      "execution_count": null,
      "outputs": [
        {
          "output_type": "stream",
          "text": [
            "['D' 'I' 'W' ... 'Q' 'V' 'Y']\n"
          ],
          "name": "stdout"
        }
      ]
    },
    {
      "cell_type": "code",
      "metadata": {
        "id": "7_LLXzdVvaGq"
      },
      "source": [
        "def markov_samp(X_train, Y_train, k = 5, q = 1.2):\n",
        "\n",
        "    InitialSample = np.concatenate((np.vstack(X_train), np.vstack(Y_train.to_numpy())), axis = 1)\n",
        "    Dtr = random.sample(list(InitialSample), 2000)\n",
        "\n",
        "    m = len(Dtr)\n",
        "    print(\"M : \" , m)\n",
        "    mneg, mplus = 0, 0\n",
        "\n",
        "    index = np.random.choice(len(Dtr), 1, replace=False)  \n",
        "    Dtra = np.array(Dtr)\n",
        "    print(type(Dtra))\n",
        "    zt = Dtra[index][0]\n",
        "    print(\"zt : \", zt)\n",
        "    if m%2 == 0:\n",
        "        if zt[16] == 'A':\n",
        "            mplus += 1;\n",
        "        else:\n",
        "            mneg += 1\n",
        "    sample = []\n",
        "    Pd, Pdd = 0, 0\n",
        "    print(zt)\n",
        "    while(mplus + mneg < m ):\n",
        "        zstar = Dtra[np.random.choice(len(Dtr), 1, replace=False)][0]\n",
        "        P = 1\n",
        "        yt = zt[16]\n",
        "        zt = zstar\n",
        "        if P == 1:\n",
        "            if zt[16] == yt:\n",
        "                sample.append(zstar) \n",
        "            else:\n",
        "                sample.append(zstar) \n",
        "\n",
        "        if len(sample) == k:\n",
        "            Pdd = q*P\n",
        "            sample.append(zstar)\n",
        "            \n",
        "        ztp1 = zstar\n",
        "        if yt == 'A':\n",
        "            mplus += 1\n",
        "        else:\n",
        "            mneg += 1\n",
        "\n",
        "        if P > 1 or Pd > 1 or Pdd > 1:\n",
        "            sample.append(zstar)\n",
        "    return sample\n"
      ],
      "execution_count": null,
      "outputs": []
    },
    {
      "cell_type": "code",
      "metadata": {
        "colab": {
          "base_uri": "https://localhost:8080/"
        },
        "id": "q9xnR2e6S6R8",
        "outputId": "c389da15-fc5f-4730-ed72-d75ee6f23a78"
      },
      "source": [
        "nsamp = np.array(markov_samp(X_train, y_train))\n",
        "print(nsamp.shape)\n",
        "X_train = nsamp[:, 0:16]\n",
        "y_train = nsamp[:, 16]\n",
        "print(X_train.shape)\n",
        "print(y_train.shape)\n"
      ],
      "execution_count": null,
      "outputs": [
        {
          "output_type": "stream",
          "text": [
            "M :  2000\n",
            "<class 'numpy.ndarray'>\n",
            "zt :  ['-0.535058351189197' '0.897111492873891' '-0.5569354208653187'\n",
            " '0.7197043272227955' '-1.1440792055116078' '3.505618739092575'\n",
            " '-2.7957398671014135' '0.8782855643399382' '-0.07502005433265674'\n",
            " '2.2977752670493605' '-2.0729475398212043' '0.9953785889431042'\n",
            " '-1.306035951747627' '-0.8656165570003708' '-1.4382630258096822'\n",
            " '0.12291418644186297' 'J']\n",
            "['-0.535058351189197' '0.897111492873891' '-0.5569354208653187'\n",
            " '0.7197043272227955' '-1.1440792055116078' '3.505618739092575'\n",
            " '-2.7957398671014135' '0.8782855643399382' '-0.07502005433265674'\n",
            " '2.2977752670493605' '-2.0729475398212043' '0.9953785889431042'\n",
            " '-1.306035951747627' '-0.8656165570003708' '-1.4382630258096822'\n",
            " '0.12291418644186297' 'J']\n",
            "(3995, 17)\n",
            "(3995, 16)\n",
            "(3995,)\n"
          ],
          "name": "stdout"
        }
      ]
    },
    {
      "cell_type": "code",
      "metadata": {
        "colab": {
          "base_uri": "https://localhost:8080/"
        },
        "id": "Czgzdz3sWUFN",
        "outputId": "77a219d9-7d25-474f-d0c3-c84b0349e8b0"
      },
      "source": [
        "Y_train = []\n",
        "for i in y_train:\n",
        "    Y_train.append(ord(i))\n",
        "\n",
        "print(X_test.shape)"
      ],
      "execution_count": null,
      "outputs": [
        {
          "output_type": "stream",
          "text": [
            "(6000, 16)\n"
          ],
          "name": "stdout"
        }
      ]
    },
    {
      "cell_type": "code",
      "metadata": {
        "id": "ZGqTVqGr4H46"
      },
      "source": [
        "model_linear = SVC(kernel='linear')\n",
        "model_linear.fit(X_train, Y_train)\n",
        "\n",
        "y_pred = model_linear.predict(X_test)\n",
        "\n",
        "Y_test = []\n",
        "for i in y_test:\n",
        "    Y_test.append(ord(i))"
      ],
      "execution_count": null,
      "outputs": []
    },
    {
      "cell_type": "code",
      "metadata": {
        "colab": {
          "base_uri": "https://localhost:8080/"
        },
        "id": "s12I7fMO4H46",
        "outputId": "570dfd3e-0eda-454f-9c38-6fc0779e9430"
      },
      "source": [
        "acc = metrics.accuracy_score(y_true=Y_test, y_pred=y_pred)\n",
        "print(\"Accuracy:\")\n",
        "print(acc*100,\"%\")"
      ],
      "execution_count": null,
      "outputs": [
        {
          "output_type": "stream",
          "text": [
            "Accuracy:\n",
            "78.0 %\n"
          ],
          "name": "stdout"
        }
      ]
    },
    {
      "cell_type": "code",
      "metadata": {
        "id": "Nwim2CnS4H47"
      },
      "source": [
        "non_linear_model = SVC(kernel='rbf')\n",
        "non_linear_model.fit(X_train, Y_train)\n",
        "y_pred = non_linear_model.predict(X_test)"
      ],
      "execution_count": null,
      "outputs": []
    },
    {
      "cell_type": "code",
      "metadata": {
        "colab": {
          "base_uri": "https://localhost:8080/"
        },
        "id": "BV511QZK4H48",
        "outputId": "f9206db3-6750-4721-b20f-36d452a868b3"
      },
      "source": [
        "acc = metrics.accuracy_score(y_true=Y_test, y_pred=y_pred)\n",
        "print(\"Accuracy:\")\n",
        "print(acc*100,\"%\")\n"
      ],
      "execution_count": null,
      "outputs": [
        {
          "output_type": "stream",
          "text": [
            "Accuracy:\n",
            "83.18333333333334 %\n"
          ],
          "name": "stdout"
        }
      ]
    },
    {
      "cell_type": "code",
      "metadata": {
        "id": "3gOHknJUWUiN"
      },
      "source": [
        "non_linear_model = SVC(kernel='poly')\n",
        "non_linear_model.fit(X_train, Y_train)\n",
        "y_pred = non_linear_model.predict(X_test)"
      ],
      "execution_count": null,
      "outputs": []
    },
    {
      "cell_type": "code",
      "metadata": {
        "colab": {
          "base_uri": "https://localhost:8080/"
        },
        "id": "YDo9UJ70WUil",
        "outputId": "432be8db-2e79-431d-d71e-eabd8deb53e8"
      },
      "source": [
        "acc = metrics.accuracy_score(y_true=Y_test, y_pred=y_pred)\n",
        "print(\"Accuracy:\")\n",
        "print(acc*100,\"%\")"
      ],
      "execution_count": null,
      "outputs": [
        {
          "output_type": "stream",
          "text": [
            "Accuracy:\n",
            "0.0 %\n"
          ],
          "name": "stdout"
        },
        {
          "output_type": "stream",
          "text": [
            "/usr/local/lib/python3.7/dist-packages/sklearn/metrics/_classification.py:191: FutureWarning: elementwise comparison failed; returning scalar instead, but in the future will perform elementwise comparison\n",
            "  score = y_true == y_pred\n"
          ],
          "name": "stderr"
        }
      ]
    },
    {
      "cell_type": "code",
      "metadata": {
        "colab": {
          "base_uri": "https://localhost:8080/"
        },
        "id": "tk208Z1z4H49",
        "outputId": "200c6e05-b0d9-41f2-ba90-8f1e9202575c"
      },
      "source": [
        "folds = KFold(n_splits = 5, shuffle = True, random_state = random_state)\n",
        "hyper_params = [ {'gamma': [1e-2, 1e-3, 1e-4],\n",
        "                     'C': [1, 10, 100, 1000]}]\n",
        "\n",
        "model = SVC(kernel=\"rbf\")\n",
        "\n",
        "model_cv = GridSearchCV(estimator = model, \n",
        "                        param_grid = hyper_params, \n",
        "                        scoring= 'accuracy', \n",
        "                        cv = folds, \n",
        "                        verbose = 1,\n",
        "                        return_train_score=True)      \n",
        "\n",
        "model_cv.fit(X_train, y_train)                  \n"
      ],
      "execution_count": null,
      "outputs": [
        {
          "output_type": "stream",
          "text": [
            "Fitting 5 folds for each of 12 candidates, totalling 60 fits\n"
          ],
          "name": "stdout"
        },
        {
          "output_type": "stream",
          "text": [
            "[Parallel(n_jobs=1)]: Using backend SequentialBackend with 1 concurrent workers.\n",
            "[Parallel(n_jobs=1)]: Done  60 out of  60 | elapsed:  1.3min finished\n"
          ],
          "name": "stderr"
        },
        {
          "output_type": "execute_result",
          "data": {
            "text/plain": [
              "GridSearchCV(cv=KFold(n_splits=5, random_state=100, shuffle=True),\n",
              "             error_score=nan,\n",
              "             estimator=SVC(C=1.0, break_ties=False, cache_size=200,\n",
              "                           class_weight=None, coef0=0.0,\n",
              "                           decision_function_shape='ovr', degree=3,\n",
              "                           gamma='scale', kernel='rbf', max_iter=-1,\n",
              "                           probability=False, random_state=None, shrinking=True,\n",
              "                           tol=0.001, verbose=False),\n",
              "             iid='deprecated', n_jobs=None,\n",
              "             param_grid=[{'C': [1, 10, 100, 1000],\n",
              "                          'gamma': [0.01, 0.001, 0.0001]}],\n",
              "             pre_dispatch='2*n_jobs', refit=True, return_train_score=True,\n",
              "             scoring='accuracy', verbose=1)"
            ]
          },
          "metadata": {
            "tags": []
          },
          "execution_count": 120
        }
      ]
    },
    {
      "cell_type": "code",
      "metadata": {
        "colab": {
          "base_uri": "https://localhost:8080/",
          "height": 400
        },
        "id": "GqZ1amda4H49",
        "outputId": "ce7afbae-8e63-4155-9f69-eddca50a5ec6"
      },
      "source": [
        "cv_results = pd.DataFrame(model_cv.cv_results_)\n",
        "cv_results.head()"
      ],
      "execution_count": null,
      "outputs": [
        {
          "output_type": "execute_result",
          "data": {
            "text/html": [
              "<div>\n",
              "<style scoped>\n",
              "    .dataframe tbody tr th:only-of-type {\n",
              "        vertical-align: middle;\n",
              "    }\n",
              "\n",
              "    .dataframe tbody tr th {\n",
              "        vertical-align: top;\n",
              "    }\n",
              "\n",
              "    .dataframe thead th {\n",
              "        text-align: right;\n",
              "    }\n",
              "</style>\n",
              "<table border=\"1\" class=\"dataframe\">\n",
              "  <thead>\n",
              "    <tr style=\"text-align: right;\">\n",
              "      <th></th>\n",
              "      <th>mean_fit_time</th>\n",
              "      <th>std_fit_time</th>\n",
              "      <th>mean_score_time</th>\n",
              "      <th>std_score_time</th>\n",
              "      <th>param_C</th>\n",
              "      <th>param_gamma</th>\n",
              "      <th>params</th>\n",
              "      <th>split0_test_score</th>\n",
              "      <th>split1_test_score</th>\n",
              "      <th>split2_test_score</th>\n",
              "      <th>split3_test_score</th>\n",
              "      <th>split4_test_score</th>\n",
              "      <th>mean_test_score</th>\n",
              "      <th>std_test_score</th>\n",
              "      <th>rank_test_score</th>\n",
              "      <th>split0_train_score</th>\n",
              "      <th>split1_train_score</th>\n",
              "      <th>split2_train_score</th>\n",
              "      <th>split3_train_score</th>\n",
              "      <th>split4_train_score</th>\n",
              "      <th>mean_train_score</th>\n",
              "      <th>std_train_score</th>\n",
              "    </tr>\n",
              "  </thead>\n",
              "  <tbody>\n",
              "    <tr>\n",
              "      <th>0</th>\n",
              "      <td>0.466319</td>\n",
              "      <td>0.008878</td>\n",
              "      <td>0.185978</td>\n",
              "      <td>0.003873</td>\n",
              "      <td>1</td>\n",
              "      <td>0.01</td>\n",
              "      <td>{'C': 1, 'gamma': 0.01}</td>\n",
              "      <td>0.780976</td>\n",
              "      <td>0.773467</td>\n",
              "      <td>0.773467</td>\n",
              "      <td>0.783479</td>\n",
              "      <td>0.801001</td>\n",
              "      <td>0.782478</td>\n",
              "      <td>0.010087</td>\n",
              "      <td>7</td>\n",
              "      <td>0.806946</td>\n",
              "      <td>0.814456</td>\n",
              "      <td>0.809449</td>\n",
              "      <td>0.803817</td>\n",
              "      <td>0.809449</td>\n",
              "      <td>0.808824</td>\n",
              "      <td>0.003495</td>\n",
              "    </tr>\n",
              "    <tr>\n",
              "      <th>1</th>\n",
              "      <td>0.880883</td>\n",
              "      <td>0.003390</td>\n",
              "      <td>0.209402</td>\n",
              "      <td>0.002082</td>\n",
              "      <td>1</td>\n",
              "      <td>0.001</td>\n",
              "      <td>{'C': 1, 'gamma': 0.001}</td>\n",
              "      <td>0.424280</td>\n",
              "      <td>0.454318</td>\n",
              "      <td>0.469337</td>\n",
              "      <td>0.458073</td>\n",
              "      <td>0.448060</td>\n",
              "      <td>0.450814</td>\n",
              "      <td>0.014964</td>\n",
              "      <td>10</td>\n",
              "      <td>0.449625</td>\n",
              "      <td>0.484668</td>\n",
              "      <td>0.470901</td>\n",
              "      <td>0.453066</td>\n",
              "      <td>0.470588</td>\n",
              "      <td>0.465770</td>\n",
              "      <td>0.012874</td>\n",
              "    </tr>\n",
              "    <tr>\n",
              "      <th>2</th>\n",
              "      <td>1.084912</td>\n",
              "      <td>0.008696</td>\n",
              "      <td>0.210536</td>\n",
              "      <td>0.002059</td>\n",
              "      <td>1</td>\n",
              "      <td>0.0001</td>\n",
              "      <td>{'C': 1, 'gamma': 0.0001}</td>\n",
              "      <td>0.085106</td>\n",
              "      <td>0.088861</td>\n",
              "      <td>0.081352</td>\n",
              "      <td>0.043805</td>\n",
              "      <td>0.081352</td>\n",
              "      <td>0.076095</td>\n",
              "      <td>0.016384</td>\n",
              "      <td>12</td>\n",
              "      <td>0.092303</td>\n",
              "      <td>0.085732</td>\n",
              "      <td>0.073217</td>\n",
              "      <td>0.055695</td>\n",
              "      <td>0.100751</td>\n",
              "      <td>0.081539</td>\n",
              "      <td>0.015746</td>\n",
              "    </tr>\n",
              "    <tr>\n",
              "      <th>3</th>\n",
              "      <td>0.280471</td>\n",
              "      <td>0.005190</td>\n",
              "      <td>0.131313</td>\n",
              "      <td>0.002944</td>\n",
              "      <td>10</td>\n",
              "      <td>0.01</td>\n",
              "      <td>{'C': 10, 'gamma': 0.01}</td>\n",
              "      <td>0.938673</td>\n",
              "      <td>0.932416</td>\n",
              "      <td>0.922403</td>\n",
              "      <td>0.922403</td>\n",
              "      <td>0.923655</td>\n",
              "      <td>0.927910</td>\n",
              "      <td>0.006556</td>\n",
              "      <td>4</td>\n",
              "      <td>0.952753</td>\n",
              "      <td>0.952441</td>\n",
              "      <td>0.959324</td>\n",
              "      <td>0.954944</td>\n",
              "      <td>0.956508</td>\n",
              "      <td>0.955194</td>\n",
              "      <td>0.002545</td>\n",
              "    </tr>\n",
              "    <tr>\n",
              "      <th>4</th>\n",
              "      <td>0.457138</td>\n",
              "      <td>0.003649</td>\n",
              "      <td>0.184388</td>\n",
              "      <td>0.002850</td>\n",
              "      <td>10</td>\n",
              "      <td>0.001</td>\n",
              "      <td>{'C': 10, 'gamma': 0.001}</td>\n",
              "      <td>0.754693</td>\n",
              "      <td>0.760951</td>\n",
              "      <td>0.745932</td>\n",
              "      <td>0.788486</td>\n",
              "      <td>0.784731</td>\n",
              "      <td>0.766959</td>\n",
              "      <td>0.016780</td>\n",
              "      <td>8</td>\n",
              "      <td>0.791615</td>\n",
              "      <td>0.794431</td>\n",
              "      <td>0.781289</td>\n",
              "      <td>0.786295</td>\n",
              "      <td>0.782228</td>\n",
              "      <td>0.787171</td>\n",
              "      <td>0.005143</td>\n",
              "    </tr>\n",
              "  </tbody>\n",
              "</table>\n",
              "</div>"
            ],
            "text/plain": [
              "   mean_fit_time  std_fit_time  ...  mean_train_score  std_train_score\n",
              "0       0.466319      0.008878  ...          0.808824         0.003495\n",
              "1       0.880883      0.003390  ...          0.465770         0.012874\n",
              "2       1.084912      0.008696  ...          0.081539         0.015746\n",
              "3       0.280471      0.005190  ...          0.955194         0.002545\n",
              "4       0.457138      0.003649  ...          0.787171         0.005143\n",
              "\n",
              "[5 rows x 22 columns]"
            ]
          },
          "metadata": {
            "tags": []
          },
          "execution_count": 121
        }
      ]
    },
    {
      "cell_type": "code",
      "metadata": {
        "id": "BVRyvistr2bm"
      },
      "source": [
        "def gamma_plots(x):\n",
        "  gamma_01 = cv_results[cv_results['param_gamma']==x]\n",
        "  plt.plot(gamma_01[\"param_C\"], gamma_01[\"mean_test_score\"])\n",
        "  plt.plot(gamma_01[\"param_C\"], gamma_01[\"mean_train_score\"])\n",
        "  plt.xlabel('C')\n",
        "  plt.ylabel('Accuracy')\n",
        "  plt.title(\"Gamma=\"+str(x))\n",
        "  plt.ylim([0.60, 1])\n",
        "  plt.legend(['test accuracy', 'train accuracy'], loc='lower right')\n",
        "  plt.xscale('log')"
      ],
      "execution_count": null,
      "outputs": []
    },
    {
      "cell_type": "code",
      "metadata": {
        "colab": {
          "base_uri": "https://localhost:8080/",
          "height": 517
        },
        "id": "PANFVxh44H5A",
        "outputId": "d7b6f640-3f98-4e70-df12-b00221fbb44f"
      },
      "source": [
        "cv_results['param_C'] = cv_results['param_C'].astype('int')\n",
        "plt.figure(figsize=(16,8))\n",
        "\n",
        "plt.subplot(131)\n",
        "gamma_plots(0.01)\n",
        "\n",
        "plt.subplot(132)\n",
        "gamma_plots(0.001)\n",
        "\n",
        "plt.subplot(133)\n",
        "gamma_plots(0.0001)"
      ],
      "execution_count": null,
      "outputs": [
        {
          "output_type": "display_data",
          "data": {
            "image/png": "[encoded data removed]",
            "text/plain": [
              "<Figure size 1152x576 with 3 Axes>"
            ]
          },
          "metadata": {
            "tags": [],
            "needs_background": "light"
          }
        }
      ]
    },
    {
      "cell_type": "code",
      "metadata": {
        "colab": {
          "base_uri": "https://localhost:8080/"
        },
        "id": "KdziW3r_4H5D",
        "outputId": "eab62f0c-e283-40f6-c988-0272645e06b4"
      },
      "source": [
        "best_score = model_cv.best_score_\n",
        "best_hyperparams = model_cv.best_params_\n",
        "\n",
        "print(\"Best score :\", best_score)\n",
        "print(\"Best Hyperparameters:\", best_hyperparams)"
      ],
      "execution_count": null,
      "outputs": [
        {
          "output_type": "stream",
          "text": [
            "Best score : 0.9809762202753441\n",
            "Best Hyperparameters: {'C': 1000, 'gamma': 0.01}\n"
          ],
          "name": "stdout"
        }
      ]
    },
    {
      "cell_type": "code",
      "metadata": {
        "colab": {
          "base_uri": "https://localhost:8080/"
        },
        "id": "77oK5jTD4H5E",
        "outputId": "ad78aac4-c49f-4166-bc3a-691eff730a87"
      },
      "source": [
        "model = SVC(C=1000, gamma=0.01, kernel=\"rbf\")\n",
        "model.fit(X_train, y_train)\n",
        "y_pred = model.predict(X_test)\n",
        "acc = metrics.accuracy_score(y_test, y_pred)\n",
        "print(\"Accuracy: \")\n",
        "print(acc*100,\"%\")\n",
        "print()"
      ],
      "execution_count": null,
      "outputs": [
        {
          "output_type": "stream",
          "text": [
            "Accuracy: \n",
            "82.58333333333333 %\n",
            "\n"
          ],
          "name": "stdout"
        }
      ]
    }
  ]
}